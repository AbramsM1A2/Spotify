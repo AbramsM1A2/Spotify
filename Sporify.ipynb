{
 "cells": [
  {
   "cell_type": "code",
   "execution_count": 17,
   "metadata": {},
   "outputs": [],
   "source": [
    "import json\n",
    "USER_DIR = 'C:/Users/abram/Documents/MATI/Spotify/api'"
   ]
  },
  {
   "cell_type": "code",
   "execution_count": 34,
   "metadata": {},
   "outputs": [],
   "source": [
    "jPlay1 = os.path.join(USER_DIR,'50cent-dataPlaylist22.json')\n",
    "jPlay2 = os.path.join(USER_DIR,'50cent-dataPlaylist34.json')\n",
    "jPlay3 = os.path.join(USER_DIR,'50cent-dataPlaylist36.json')\n",
    "jPlay4 = os.path.join(USER_DIR,'50cent-dataPlaylist41.json')"
   ]
  },
  {
   "cell_type": "code",
   "execution_count": 37,
   "metadata": {},
   "outputs": [
    {
     "name": "stdout",
     "output_type": "stream",
     "text": [
      "G-Unit\n",
      "50 Cent\n",
      "LL Cool J\n",
      "Snoop Dogg\n",
      "50 Cent\n",
      "Mobb Deep\n",
      "Mase\n",
      "Eric B. & Rakim\n",
      "Nas\n",
      "Kidd Kidd\n",
      "New Edition\n",
      "JAY-Z\n",
      "The LOX\n",
      "Wu-Tang Clan\n",
      "Eminem\n",
      "2Pac\n",
      "The Notorious B.I.G.\n",
      "Dr. Dre\n",
      "Kendrick Lamar\n",
      "Michael Jackson\n",
      "Jeremih\n",
      "Trey Songz\n",
      "50 Cent\n"
     ]
    }
   ],
   "source": [
    "dataPlay1 = json.loads(open(jPlay1).read())\n",
    "dataPlay2 = json.loads(open(jPlay2).read())\n",
    "dataPlay3 = json.loads(open(jPlay3).read())\n",
    "dataPlay4 = json.loads(open(jPlay4).read())\n",
    "dataPlaylists=\n",
    "for i in range(0,len(dataPlay1)):\n",
    "    print(dataPlay1[i][\"2\"])\n",
    "\n"
   ]
  },
  {
   "cell_type": "code",
   "execution_count": 28,
   "metadata": {},
   "outputs": [
    {
     "name": "stdout",
     "output_type": "stream",
     "text": [
      "The Game\n"
     ]
    }
   ],
   "source": [
    "print(songName)"
   ]
  },
  {
   "cell_type": "code",
   "execution_count": null,
   "metadata": {},
   "outputs": [],
   "source": []
  }
 ],
 "metadata": {
  "kernelspec": {
   "display_name": "SageMath 9.2",
   "language": "sage",
   "name": "sagemath"
  },
  "language_info": {
   "codemirror_mode": {
    "name": "ipython",
    "version": 3
   },
   "file_extension": ".py",
   "mimetype": "text/x-python",
   "name": "python",
   "nbconvert_exporter": "python",
   "pygments_lexer": "ipython3",
   "version": "3.7.7"
  }
 },
 "nbformat": 4,
 "nbformat_minor": 4
}
